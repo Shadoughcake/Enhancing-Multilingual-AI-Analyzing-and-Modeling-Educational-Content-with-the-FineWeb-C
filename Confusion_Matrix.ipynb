{
 "cells": [
  {
   "cell_type": "code",
   "execution_count": null,
   "id": "8ed4ba2b",
   "metadata": {},
   "outputs": [],
   "source": [
    "import numpy as np\n",
    "import json"
   ]
  },
  {
   "cell_type": "code",
   "execution_count": null,
   "id": "10969209",
   "metadata": {},
   "outputs": [],
   "source": [
    "### Metric Functions\n",
    "def tp(multi_class_confusion_matrix):\n",
    "    return np.diag(multi_class_confusion_matrix)\n",
    "\n",
    "def fp(multi_class_confusion_matrix):\n",
    "    return np.sum(multi_class_confusion_matrix, axis=0) - tp(multi_class_confusion_matrix)\n",
    "\n",
    "def fn(multi_class_confusion_matrix):\n",
    "    return np.sum(multi_class_confusion_matrix, axis=1) - tp(multi_class_confusion_matrix)\n",
    "\n",
    "def tn(multi_class_confusion_matrix):\n",
    "    total = np.sum(multi_class_confusion_matrix)\n",
    "    return total - (tp(multi_class_confusion_matrix) + fp(multi_class_confusion_matrix) + fn(multi_class_confusion_matrix))\n",
    "\n",
    "def precision(tp,fp):\n",
    "    return tp / (tp + fp) if (tp + fp).all() else np.nan\n",
    "\n",
    "def recall(tp,fn):\n",
    "    return tp / (tp + fn) if (tp + fn).all() else np.nan\n",
    "\n",
    "def f1_score(precision, recall):\n",
    "    return 2 * (precision * recall) / (precision + recall) if (precision + recall).all() else np.nan\n",
    "\n",
    "def cm_metrics(cm):\n",
    "    tp_values = tp(cm)\n",
    "    fp_values = fp(cm)\n",
    "    fn_values = fn(cm)\n",
    "    tn_values = tn(cm)\n",
    "\n",
    "    class_metrics = {}\n",
    "\n",
    "    for i in range(len(cm)):\n",
    "        precision_values = precision(tp_values[i], fp_values[i])\n",
    "        recall_values = recall(tp_values[i], fn_values[i])\n",
    "        f1_values = f1_score(precision_values, recall_values)\n",
    "\n",
    "        class_metrics[i] = {\n",
    "            \"TP\": tp_values[i],\n",
    "            \"FP\": fp_values[i],\n",
    "            \"FN\": fn_values[i],\n",
    "            \"TN\": tn_values[i],\n",
    "            \"Precision\": precision_values,\n",
    "            \"Recall\": recall_values,\n",
    "            \"F1 Score\": f1_values\n",
    "        }\n",
    "\n",
    "    return class_metrics"
   ]
  }
 ],
 "metadata": {
  "language_info": {
   "name": "python"
  }
 },
 "nbformat": 4,
 "nbformat_minor": 5
}
