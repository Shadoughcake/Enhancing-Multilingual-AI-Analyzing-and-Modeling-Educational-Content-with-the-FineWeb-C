{
 "cells": [
  {
   "cell_type": "code",
   "execution_count": 1,
   "id": "8ed4ba2b",
   "metadata": {},
   "outputs": [],
   "source": [
    "import numpy as np\n",
    "import json\n",
    "import pandas as pd\n",
    "import matplotlib.pyplot as plt\n",
    "import seaborn as sns\n",
    "from scipy.stats import t"
   ]
  },
  {
   "cell_type": "code",
   "execution_count": 16,
   "id": "472ac004",
   "metadata": {},
   "outputs": [],
   "source": [
    "### Data:\n",
    "\n",
    "# --------------------------------------------------------\n",
    "path_dict = {\"dk_l1\": \"Data/DanishL1\",\n",
    "             \"dk_weighted\": \"Data/DanishWeighted\",\n",
    "             \"dk_l1weighted\": \"Data/DanishL1Weighted\",\n",
    "             \"multi_weighted\": \"Data/Multi_weighted\",\n",
    "             \"multi_l1weighted\": \"Data/MultiL1Weighted\",\n",
    "             \"multi_l1\": \"Data/MultiL1\"\n",
    "             }\n",
    "\n",
    "# --------------------------------------------------------\n",
    "### Commented to save memory and avoid loading large files unnecessarily.\n",
    "# cm_dict = {key : json.load(open(f\"{value}/CMS_final{key.split('_')[-1].capitalize()}.json\")) for key, value in path_dict.items()}\n",
    "# mc_dict = {key : pd.read_csv(f\"{value}/MC_final{key.split('_')[-1].capitalize()}.csv\") for key, value in path_dict.items()}\n",
    "\n"
   ]
  },
  {
   "cell_type": "markdown",
   "id": "336711d0",
   "metadata": {},
   "source": [
    "# Statistics"
   ]
  },
  {
   "cell_type": "code",
   "execution_count": 4,
   "id": "a128ab14",
   "metadata": {},
   "outputs": [],
   "source": [
    "seeds_dict = {\"dk_l1\": \"Data/Seeds/dk_l1_accuracies.csv\",\n",
    "              \"dk_l1weighted\": \"Data/Seeds/dk_l1weighted_accuracies.csv\",\n",
    "              \"dk_weighted\": \"Data/Seeds/dk_weighted_accuracies.csv\",\n",
    "              \"multi_l1\": \"Data/Seeds/Multi_L1_accuracies.csv\", \n",
    "              \"multi_l1weighted\": \"Data/Seeds/Multi_L1_weighted_accuracies.csv\",\n",
    "              \"multi_weighted\": \"Data/Seeds/Multi_weighted_accuracies.csv\",\n",
    "              }"
   ]
  },
  {
   "cell_type": "code",
   "execution_count": 5,
   "id": "8713f63c",
   "metadata": {},
   "outputs": [],
   "source": [
    "def statistics(name, returns=False):\n",
    "    data = pd.read_csv(seeds_dict[name])[\"final_test_accuracy\"]\n",
    "    mean = data.mean()\n",
    "    std = data.std()\n",
    "    ts = t.ppf(0.975, df=len(data)-1)\n",
    "    ci = ts * (std / np.sqrt(len(data)))\n",
    "    ci_interval = (mean - ci, mean + ci)\n",
    "    if returns:\n",
    "        return mean, std, ci_interval\n",
    "    else:\n",
    "        display(f\"{name} - Mean: {mean:.4f}, Std: {std:.4f}, 95% CI: {ci_interval[0]:.4f} to {ci_interval[1]:.4f}\")\n"
   ]
  },
  {
   "cell_type": "code",
   "execution_count": 6,
   "id": "c47d731f",
   "metadata": {},
   "outputs": [
    {
     "data": {
      "text/plain": [
       "'dk_l1 - Mean: 0.6361, Std: 0.0146, 95% CI: 0.6256 to 0.6466'"
      ]
     },
     "metadata": {},
     "output_type": "display_data"
    },
    {
     "data": {
      "text/plain": [
       "'dk_l1weighted - Mean: 0.6344, Std: 0.0254, 95% CI: 0.6163 to 0.6526'"
      ]
     },
     "metadata": {},
     "output_type": "display_data"
    },
    {
     "data": {
      "text/plain": [
       "'dk_weighted - Mean: 0.6333, Std: 0.0280, 95% CI: 0.6133 to 0.6533'"
      ]
     },
     "metadata": {},
     "output_type": "display_data"
    },
    {
     "data": {
      "text/plain": [
       "'multi_l1 - Mean: 0.6094, Std: 0.0196, 95% CI: 0.5954 to 0.6235'"
      ]
     },
     "metadata": {},
     "output_type": "display_data"
    },
    {
     "data": {
      "text/plain": [
       "'multi_l1weighted - Mean: 0.6006, Std: 0.0238, 95% CI: 0.5835 to 0.6176'"
      ]
     },
     "metadata": {},
     "output_type": "display_data"
    },
    {
     "data": {
      "text/plain": [
       "'multi_weighted - Mean: 0.6056, Std: 0.0444, 95% CI: 0.5738 to 0.6373'"
      ]
     },
     "metadata": {},
     "output_type": "display_data"
    }
   ],
   "source": [
    "for i in seeds_dict.keys():\n",
    "    statistics(i)"
   ]
  },
  {
   "cell_type": "markdown",
   "id": "6a27f733",
   "metadata": {},
   "source": [
    "# Confusion Matrix"
   ]
  },
  {
   "cell_type": "code",
   "execution_count": 17,
   "id": "44ad22a2",
   "metadata": {},
   "outputs": [],
   "source": [
    "# Load confusion matrices from JSON files\n",
    "cm_dict = {key : json.load(open(f\"{value}/CMS_final{key.split('_')[-1].capitalize()}.json\")) for key, value in path_dict.items()}"
   ]
  },
  {
   "cell_type": "code",
   "execution_count": 18,
   "id": "83afb85a",
   "metadata": {},
   "outputs": [],
   "source": [
    "def plot_cm(c_matrix, title=\"Confusion Matrix\"):\n",
    "    # Class labels\n",
    "    class_names = [\"None\", \"Minimal\", \"Basic\", \"Good\", \"Excellent\"]\n",
    "    \n",
    "    # Convert to numpy array if needed\n",
    "    cm = np.array(c_matrix)\n",
    "\n",
    "    # Plot\n",
    "    plt.figure(figsize=(8, 6))\n",
    "    sns.heatmap(cm, annot=True, fmt='.0f', cmap='Blues',\n",
    "                xticklabels=class_names, yticklabels=class_names,\n",
    "                cbar_kws={'label': 'Count'})\n",
    "\n",
    "    plt.xlabel(\"Predicted Label\")\n",
    "    plt.ylabel(\"True Label\")\n",
    "    plt.title(title)\n",
    "    plt.tight_layout()\n",
    "    plt.show()"
   ]
  },
  {
   "cell_type": "code",
   "execution_count": 19,
   "id": "10969209",
   "metadata": {},
   "outputs": [],
   "source": [
    "### Standard Confusion Matrix Metric Functions (TP, FP, FN, TN, Precision, Recall, F1 Score)\n",
    "def tp(multi_class_confusion_matrix):\n",
    "    return np.diag(multi_class_confusion_matrix)\n",
    "\n",
    "def fp(multi_class_confusion_matrix):\n",
    "    return np.sum(multi_class_confusion_matrix, axis=0) - tp(multi_class_confusion_matrix)\n",
    "\n",
    "def fn(multi_class_confusion_matrix):\n",
    "    return np.sum(multi_class_confusion_matrix, axis=1) - tp(multi_class_confusion_matrix)\n",
    "\n",
    "def tn(multi_class_confusion_matrix):\n",
    "    total = np.sum(multi_class_confusion_matrix)\n",
    "    return total - (tp(multi_class_confusion_matrix) + fp(multi_class_confusion_matrix) + fn(multi_class_confusion_matrix))\n",
    "\n",
    "def precision(tp,fp):\n",
    "    return tp / (tp + fp) if (tp + fp).all() else np.nan\n",
    "\n",
    "def recall(tp,fn):\n",
    "    return tp / (tp + fn) if (tp + fn).all() else np.nan\n",
    "\n",
    "def f1_score(precision, recall):\n",
    "    return 2 * (precision * recall) / (precision + recall) if (precision + recall).all() else np.nan\n",
    "\n",
    "def cm_metrics(cm):\n",
    "    tp_values = tp(cm)\n",
    "    fp_values = fp(cm)\n",
    "    fn_values = fn(cm)\n",
    "    tn_values = tn(cm)\n",
    "\n",
    "    class_metrics = {}\n",
    "\n",
    "    for i in range(len(cm)):\n",
    "        precision_values = precision(tp_values[i], fp_values[i])\n",
    "        recall_values = recall(tp_values[i], fn_values[i])\n",
    "        f1_values = f1_score(precision_values, recall_values)\n",
    "\n",
    "        class_metrics[i] = {\n",
    "            \"TP\": tp_values[i],\n",
    "            \"FP\": fp_values[i],\n",
    "            \"FN\": fn_values[i],\n",
    "            \"TN\": tn_values[i],\n",
    "            \"Precision\": precision_values,\n",
    "            \"Recall\": recall_values,\n",
    "            \"F1 Score\": f1_values\n",
    "        }\n",
    "\n",
    "    return class_metrics"
   ]
  },
  {
   "cell_type": "code",
   "execution_count": 20,
   "id": "4f5b00e1",
   "metadata": {},
   "outputs": [
    {
     "data": {
      "image/png": "[encoded data removed]",
      "text/plain": [
       "<Figure size 800x600 with 2 Axes>"
      ]
     },
     "metadata": {},
     "output_type": "display_data"
    }
   ],
   "source": [
    "plot_cm(cm_dict[\"dk_weighted\"][\"epoch_100\"])"
   ]
  },
  {
   "cell_type": "code",
   "execution_count": 21,
   "id": "96710a49",
   "metadata": {},
   "outputs": [],
   "source": [
    "def ntz(value): # NaN to Zero\n",
    "    return np.nan_to_num(value, nan=0)\n",
    "\n",
    "\n",
    "def weighted_f1(cm_metrics):\n",
    "    f1_weighted = 0\n",
    "    for label_class in cm_metrics.keys():\n",
    "        N = cm_metrics[label_class][\"TN\"] + cm_metrics[label_class][\"TP\"] + cm_metrics[label_class][\"FN\"] + cm_metrics[label_class][\"FP\"]\n",
    "        s = cm_metrics[label_class][\"TP\"] + cm_metrics[label_class][\"FN\"]\n",
    "        f1_weighted += (s/N) * ntz(cm_metrics[label_class][\"F1 Score\"])\n",
    "    \n",
    "    return f1_weighted\n",
    "    "
   ]
  },
  {
   "cell_type": "code",
   "execution_count": 22,
   "id": "a2b3e1d0",
   "metadata": {},
   "outputs": [
    {
     "data": {
      "text/plain": [
       "'Model: dk_l1, Weighted F1 Score: 0.6449942379717661'"
      ]
     },
     "metadata": {},
     "output_type": "display_data"
    },
    {
     "data": {
      "text/plain": [
       "'Model: dk_weighted, Weighted F1 Score: 0.6289083527561906'"
      ]
     },
     "metadata": {},
     "output_type": "display_data"
    },
    {
     "data": {
      "text/plain": [
       "'Model: dk_l1weighted, Weighted F1 Score: 0.6018161412830039'"
      ]
     },
     "metadata": {},
     "output_type": "display_data"
    },
    {
     "data": {
      "text/plain": [
       "'Model: multi_weighted, Weighted F1 Score: 0.6104980287477834'"
      ]
     },
     "metadata": {},
     "output_type": "display_data"
    },
    {
     "data": {
      "text/plain": [
       "'Model: multi_l1weighted, Weighted F1 Score: 0.5616527925107804'"
      ]
     },
     "metadata": {},
     "output_type": "display_data"
    },
    {
     "data": {
      "text/plain": [
       "'Model: multi_l1, Weighted F1 Score: 0.5974099787620315'"
      ]
     },
     "metadata": {},
     "output_type": "display_data"
    }
   ],
   "source": [
    "### Get Weighted F1 Scores, Based of the number of CM Keys in the cd_dict\n",
    "for model in cm_dict.keys():\n",
    "    score = weighted_f1(cm_metrics(cm_dict[model][\"epoch_100\"]))\n",
    "    display(f\"Model: {model}, Weighted F1 Score: {score}\")"
   ]
  },
  {
   "cell_type": "markdown",
   "id": "447daf99",
   "metadata": {},
   "source": [
    "### Reset Memory"
   ]
  },
  {
   "cell_type": "code",
   "execution_count": null,
   "id": "9791c247",
   "metadata": {},
   "outputs": [],
   "source": [
    "del cm_dict"
   ]
  }
 ],
 "metadata": {
  "kernelspec": {
   "display_name": "projectAI",
   "language": "python",
   "name": "python3"
  },
  "language_info": {
   "codemirror_mode": {
    "name": "ipython",
    "version": 3
   },
   "file_extension": ".py",
   "mimetype": "text/x-python",
   "name": "python",
   "nbconvert_exporter": "python",
   "pygments_lexer": "ipython3",
   "version": "3.11.8"
  }
 },
 "nbformat": 4,
 "nbformat_minor": 5
}
