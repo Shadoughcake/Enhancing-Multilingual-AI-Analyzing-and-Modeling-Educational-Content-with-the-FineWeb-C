{
 "cells": [
  {
   "cell_type": "code",
   "execution_count": 24,
   "id": "b089a00b",
   "metadata": {},
   "outputs": [],
   "source": [
    "from datasets import load_dataset\n",
    "import pandas as pd\n",
    "import numpy as np\n",
    "from itertools import islice\n",
    "from urllib.parse import urlparse\n"
   ]
  },
  {
   "cell_type": "code",
   "execution_count": 45,
   "id": "4e029729",
   "metadata": {},
   "outputs": [],
   "source": [
    "# Load filtered an streamed FineWeb 2 dataset\n",
    "dataset = load_dataset(\"HuggingFaceFW/fineweb-2\", split=\"train\", data_dir=\"data/dan_Latn\", streaming=True)"
   ]
  },
  {
   "cell_type": "code",
   "execution_count": 39,
   "id": "f17fea77",
   "metadata": {},
   "outputs": [],
   "source": [
    "def get_batches(ds, batch_size):\n",
    "    iterator = iter(ds)\n",
    "    while True:\n",
    "        batch = list(islice(iterator, batch_size))\n",
    "        if not batch:\n",
    "            break\n",
    "        yield batch"
   ]
  },
  {
   "cell_type": "code",
   "execution_count": 40,
   "id": "654d191f",
   "metadata": {},
   "outputs": [],
   "source": [
    "gen = get_batches(dataset, 1000)"
   ]
  },
  {
   "cell_type": "code",
   "execution_count": 46,
   "id": "3059de7d",
   "metadata": {},
   "outputs": [],
   "source": [
    "for i in gen:\n",
    "    print(i)"
   ]
  },
  {
   "cell_type": "code",
   "execution_count": 27,
   "id": "4f99d97a",
   "metadata": {},
   "outputs": [],
   "source": [
    "def get_batches(iterator, batch_size):\n",
    "    while True:\n",
    "        batch = list(islice(iterator, batch_size))\n",
    "        if not batch:\n",
    "            break\n",
    "        yield batch\n",
    "\n",
    "\n",
    "def domain_distribution(df):\n",
    "    if \"domain\" not in df.columns:\n",
    "        raise ValueError(\"DataFrame does not contain a 'domain' column.\")\n",
    "    \n",
    "    distribution = df[\"domain\"].value_counts().sort_values(ascending=False)\n",
    "    return distribution"
   ]
  },
  {
   "cell_type": "code",
   "execution_count": 36,
   "id": "875cc369",
   "metadata": {},
   "outputs": [
    {
     "name": "stdout",
     "output_type": "stream",
     "text": [
      "Batch 0 of 3\n",
      "Batch 1 of 3\n",
      "Batch 2 of 3\n"
     ]
    }
   ],
   "source": [
    "Batch_Size = 1000\n",
    "Batch_Iterations = 3\n",
    "Remove_Domains = [\"www.texaspoker.dk\"]\n",
    "\n",
    "# Initialize DataFrame to store all records\n",
    "all_records = pd.DataFrame()\n",
    "all_domains = []\n",
    "\n",
    "batch_generator = get_batches(dataset, batch_size=Batch_Size)\n",
    "for _ in range(Batch_Iterations):  # 3 batches = 3000 samples\n",
    "    print(f\"Batch {_} of {Batch_Iterations}\")\n",
    "    batch = next(batch_generator)\n",
    "\n",
    "    # Filter and extract fields\n",
    "    records = [{\n",
    "        \"text\": example[\"text\"],\n",
    "        \"minhash_cluster_size\": example.get(\"minhash_cluster_size\"),\n",
    "        \"url\": example.get(\"url\")\n",
    "    } for example in batch]\n",
    "\n",
    "    temp_Records = pd.DataFrame(records)\n",
    "    temp_Records[\"domain\"] = temp_Records[\"url\"].apply(lambda url: urlparse(url).netloc)\n",
    "\n",
    "    ### Possible Filtering Here\n",
    "    filtered_Records = temp_Records[~temp_Records[\"domain\"].isin(Remove_Domains)].reset_index(drop=True)\n",
    "    temp_domains = filtered_Records[\"domain\"].unique()\n",
    "    ###\n",
    "\n",
    "    all_records = pd.concat([all_records, filtered_Records], ignore_index=True)\n",
    "    all_domains.extend(temp_domains)\n",
    "\n",
    "\n",
    "\n",
    "    "
   ]
  },
  {
   "cell_type": "code",
   "execution_count": 38,
   "id": "78d9d4d7",
   "metadata": {},
   "outputs": [
    {
     "name": "stdout",
     "output_type": "stream",
     "text": [
      "domain\n",
      "www.tripadvisor.dk      228\n",
      "da.wikipedia.org        105\n",
      "www.trustpilot.co.uk    102\n",
      "www.andersen.sdu.dk      75\n",
      "www.bt.dk                75\n",
      "                       ... \n",
      "www.nordkysten.tv         3\n",
      "woman.dk                  3\n",
      "www-01.ibm.com            3\n",
      "www.degulesider.dk        3\n",
      "www.r-r.dk                3\n",
      "Name: count, Length: 623, dtype: int64\n",
      "Total Domains: 1869\n"
     ]
    }
   ],
   "source": [
    "print(domain_distribution(all_records))\n",
    "print(\"Total Domains:\",len(all_domains))"
   ]
  },
  {
   "cell_type": "code",
   "execution_count": 35,
   "id": "79cccae7",
   "metadata": {},
   "outputs": [
    {
     "data": {
      "text/html": [
       "<div>\n",
       "<style scoped>\n",
       "    .dataframe tbody tr th:only-of-type {\n",
       "        vertical-align: middle;\n",
       "    }\n",
       "\n",
       "    .dataframe tbody tr th {\n",
       "        vertical-align: top;\n",
       "    }\n",
       "\n",
       "    .dataframe thead th {\n",
       "        text-align: right;\n",
       "    }\n",
       "</style>\n",
       "<table border=\"1\" class=\"dataframe\">\n",
       "  <thead>\n",
       "    <tr style=\"text-align: right;\">\n",
       "      <th></th>\n",
       "      <th>text</th>\n",
       "      <th>minhash_cluster_size</th>\n",
       "      <th>url</th>\n",
       "      <th>domain</th>\n",
       "    </tr>\n",
       "  </thead>\n",
       "  <tbody>\n",
       "    <tr>\n",
       "      <th>998</th>\n",
       "      <td>Doyle Brunson har udgivet en ny blogpost hvor ...</td>\n",
       "      <td>37</td>\n",
       "      <td>http://www.texaspoker.dk/doyle-brunson-forsvar...</td>\n",
       "      <td>www.texaspoker.dk</td>\n",
       "    </tr>\n",
       "    <tr>\n",
       "      <th>1998</th>\n",
       "      <td>Doyle Brunson har udgivet en ny blogpost hvor ...</td>\n",
       "      <td>37</td>\n",
       "      <td>http://www.texaspoker.dk/doyle-brunson-forsvar...</td>\n",
       "      <td>www.texaspoker.dk</td>\n",
       "    </tr>\n",
       "    <tr>\n",
       "      <th>2998</th>\n",
       "      <td>Doyle Brunson har udgivet en ny blogpost hvor ...</td>\n",
       "      <td>37</td>\n",
       "      <td>http://www.texaspoker.dk/doyle-brunson-forsvar...</td>\n",
       "      <td>www.texaspoker.dk</td>\n",
       "    </tr>\n",
       "  </tbody>\n",
       "</table>\n",
       "</div>"
      ],
      "text/plain": [
       "                                                   text  minhash_cluster_size  \\\n",
       "998   Doyle Brunson har udgivet en ny blogpost hvor ...                    37   \n",
       "1998  Doyle Brunson har udgivet en ny blogpost hvor ...                    37   \n",
       "2998  Doyle Brunson har udgivet en ny blogpost hvor ...                    37   \n",
       "\n",
       "                                                    url             domain  \n",
       "998   http://www.texaspoker.dk/doyle-brunson-forsvar...  www.texaspoker.dk  \n",
       "1998  http://www.texaspoker.dk/doyle-brunson-forsvar...  www.texaspoker.dk  \n",
       "2998  http://www.texaspoker.dk/doyle-brunson-forsvar...  www.texaspoker.dk  "
      ]
     },
     "execution_count": 35,
     "metadata": {},
     "output_type": "execute_result"
    }
   ],
   "source": [
    "check_domain = \"www.texaspoker.dk\"\n",
    "\n",
    "all_records[all_records[\"domain\"] == check_domain]"
   ]
  }
 ],
 "metadata": {
  "kernelspec": {
   "display_name": "Python 3",
   "language": "python",
   "name": "python3"
  },
  "language_info": {
   "codemirror_mode": {
    "name": "ipython",
    "version": 3
   },
   "file_extension": ".py",
   "mimetype": "text/x-python",
   "name": "python",
   "nbconvert_exporter": "python",
   "pygments_lexer": "ipython3",
   "version": "3.11.5"
  }
 },
 "nbformat": 4,
 "nbformat_minor": 5
}
